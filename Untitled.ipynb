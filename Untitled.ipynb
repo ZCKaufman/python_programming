{
 "cells": [
  {
   "cell_type": "code",
   "execution_count": 3,
   "metadata": {},
   "outputs": [],
   "source": [
    "import tensorflow as tf"
   ]
  },
  {
   "cell_type": "code",
   "execution_count": 5,
   "metadata": {},
   "outputs": [],
   "source": [
    "# Define a placeholder for input values\n",
    "x = tf.placeholder(tf.float32, [None], name='x')\n",
    "\n",
    "# Define a constant value used to shift input values\n",
    "shift = tf.constant(10.0, dtype=tf.float32, name=\"shift\")\n",
    "\n",
    "# Compute shifted values\n",
    "y = tf.add(x, shift, name=\"y\")"
   ]
  },
  {
   "cell_type": "code",
   "execution_count": 6,
   "metadata": {},
   "outputs": [
    {
     "name": "stdout",
     "output_type": "stream",
     "text": [
      "[11. 12. 13.]\n"
     ]
    }
   ],
   "source": [
    "# Initialize TensorFlow session\n",
    "with tf.Session() as sess:\n",
    "\n",
    "    # Specify values to feed into placeholder 'x'\n",
    "    fd = { x : [1.,2.,3.] }\n",
    "    \n",
    "    # Run operation 'tf.add'\n",
    "    y_vals = sess.run(y, feed_dict=fd)\n",
    "    \n",
    "    print(y_vals)"
   ]
  },
  {
   "cell_type": "code",
   "execution_count": null,
   "metadata": {},
   "outputs": [],
   "source": []
  }
 ],
 "metadata": {
  "kernelspec": {
   "display_name": "Python 3",
   "language": "python",
   "name": "python3"
  },
  "language_info": {
   "codemirror_mode": {
    "name": "ipython",
    "version": 3
   },
   "file_extension": ".py",
   "mimetype": "text/x-python",
   "name": "python",
   "nbconvert_exporter": "python",
   "pygments_lexer": "ipython3",
   "version": "3.7.5"
  }
 },
 "nbformat": 4,
 "nbformat_minor": 2
}
